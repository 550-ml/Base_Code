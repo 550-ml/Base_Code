{
 "cells": [
  {
   "cell_type": "code",
   "execution_count": null,
   "metadata": {},
   "outputs": [],
   "source": [
    "import torch\n",
    "import torch.nn as nn\n",
    "\n",
    "L1_loss = nn.L1Loss()  # 稀疏性，正则化\n",
    "MSE_loss = nn.MSELoss()  # 重构误差\n",
    "CrossEntropy_loss = nn.CrossEntropyLoss()  # 分类误差"
   ]
  }
 ],
 "metadata": {
  "kernelspec": {
   "display_name": "torch",
   "language": "python",
   "name": "python3"
  },
  "language_info": {
   "name": "python",
   "version": "3.12.0"
  }
 },
 "nbformat": 4,
 "nbformat_minor": 2
}
